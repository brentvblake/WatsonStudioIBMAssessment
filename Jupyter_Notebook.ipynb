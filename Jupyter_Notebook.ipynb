{
    "cells": [
        {
            "cell_type": "markdown",
            "metadata": {},
            "source": "<center>\n    <img src=\"https://cf-courses-data.s3.us.cloud-object-storage.appdomain.cloud/IBMDeveloperSkillsNetwork-DS0105EN-SkillsNetwork/labs/Module2/images/SN_web_lightmode.png\" width=\"300\" alt=\"cognitiveclass.ai logo\">\n</center>\n"
        },
        {
            "cell_type": "markdown",
            "metadata": {},
            "source": "#### Add your code below following the instructions given in the course\n"
        },
        {
            "cell_type": "markdown",
            "metadata": {},
            "source": "# My Jupyter Notebook on IBM Watson Studio"
        },
        {
            "cell_type": "markdown",
            "metadata": {},
            "source": "Peer-graded Assignment for Coursera Data Tools course"
        },
        {
            "cell_type": "markdown",
            "metadata": {},
            "source": "- Python\n- R\n- SQL"
        },
        {
            "cell_type": "markdown",
            "metadata": {},
            "source": "- Pandas\n- Numpy\n- SciKitLearn"
        },
        {
            "cell_type": "markdown",
            "metadata": {},
            "source": "| Tools | Description |\n| --- | ----------- |\n| Jupyter Notebook | Code Editor |\n| IBM Watson Studio | Data Sience Software platform |\n| GitHub | Version Control Hub |"
        },
        {
            "cell_type": "markdown",
            "metadata": {},
            "source": "1+1=2\n\n3-2=1\n\n4x4=16"
        },
        {
            "cell_type": "code",
            "execution_count": 4,
            "metadata": {},
            "outputs": [
                {
                    "data": {
                        "text/plain": "18"
                    },
                    "execution_count": 4,
                    "metadata": {},
                    "output_type": "execute_result"
                }
            ],
            "source": "(4*4)+2"
        },
        {
            "cell_type": "code",
            "execution_count": 5,
            "metadata": {},
            "outputs": [
                {
                    "data": {
                        "text/plain": "4.116666666666666"
                    },
                    "execution_count": 5,
                    "metadata": {},
                    "output_type": "execute_result"
                }
            ],
            "source": "minutes = 247\n\nhours = minutes/60\n\nhours"
        },
        {
            "cell_type": "markdown",
            "metadata": {},
            "source": "Objectives\n- Show I am able to write markdown\n- Show that I am able to share my notebook\n- Show that I am able to write code blocks"
        },
        {
            "cell_type": "markdown",
            "metadata": {},
            "source": "Author: Brent Blake"
        },
        {
            "cell_type": "code",
            "execution_count": null,
            "metadata": {},
            "outputs": [],
            "source": ""
        }
    ],
    "metadata": {
        "kernelspec": {
            "display_name": "Python 3.9 with Spark",
            "language": "python3",
            "name": "python39"
        },
        "language_info": {
            "codemirror_mode": {
                "name": "ipython",
                "version": 3
            },
            "file_extension": ".py",
            "mimetype": "text/x-python",
            "name": "python",
            "nbconvert_exporter": "python",
            "pygments_lexer": "ipython3",
            "version": "3.9.13"
        }
    },
    "nbformat": 4,
    "nbformat_minor": 4
}